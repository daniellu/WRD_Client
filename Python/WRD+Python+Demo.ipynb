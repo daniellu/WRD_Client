{
 "cells": [
  {
   "cell_type": "code",
   "execution_count": 9,
   "metadata": {},
   "outputs": [],
   "source": [
    "# import libraries for the demo\n",
    "import wrd_client\n",
    "import matplotlib\n",
    "import matplotlib.pyplot as plt\n",
    "import matplotlib.dates\n"
   ]
  },
  {
   "cell_type": "code",
   "execution_count": 10,
   "metadata": {
    "collapsed": true
   },
   "outputs": [],
   "source": [
    "# define functions for the demo\n",
    "def extractAnalyteDate(graph_data):\n",
    "    analyteDateTime = list(\n",
    "        map(lambda x: matplotlib.dates.datestr2num(x[\"DateTime\"]), graph_data[\"AnalytesData\"][0][\"Points\"]))\n",
    "    analyteDateValue = list(map(lambda x: x[\"Value\"], graph_data[\"AnalytesData\"][0][\"Points\"]))\n",
    "    return [analyteDateTime, analyteDateValue]\n",
    "\n",
    "def extractGuidelineData(graph_data):\n",
    "    analyteDateTime = list(\n",
    "        map(lambda x: matplotlib.dates.datestr2num(x[\"DateTime\"]), graph_data[\"GuidelineData\"][0][\"Points\"]))\n",
    "    analyteDateValue = list(map(lambda x: x[\"Value\"], graph_data[\"GuidelineData\"][0][\"Points\"]))\n",
    "    return [analyteDateTime, analyteDateValue]"
   ]
  },
  {
   "cell_type": "code",
   "execution_count": 11,
   "metadata": {},
   "outputs": [],
   "source": [
    "# instantiate WRD client with provied url and login\n",
    "client = wrd_client.WRDClient(wrdUrl='', username=\"\", password=\"\")"
   ]
  },
  {
   "cell_type": "code",
   "execution_count": 12,
   "metadata": {},
   "outputs": [
    {
     "data": {
      "image/png": "[encoded data removed]",
      "text/plain": [
       "<matplotlib.figure.Figure at 0x7f5d293dc048>"
      ]
     },
     "metadata": {},
     "output_type": "display_data"
    }
   ],
   "source": [
    "# request data\n",
    "graphData = client.get_graph_data(start_date=\"May 26, 2016\",\n",
    "                                      end_date=\"May 26, 2017\",\n",
    "                                      station_name=\"AdC-0.1\",\n",
    "                                      analytes=[\"Aluminum (Al)-Total\"],\n",
    "                                      guidelines=[\"BC_WWS_ST\"])\n",
    "client.__del__()\n",
    "analyte_data = extractAnalyteDate(graph_data=graphData)\n",
    "guideline_data = extractGuidelineData(graph_data=graphData)\n",
    "plt.plot_date(analyte_data[0], analyte_data[1], 'r--')\n",
    "plt.plot_date(guideline_data[0], guideline_data[1], 'bs-')\n",
    "\n",
    "plt.ylabel(\"Aluminum (Al)-Total\")\n",
    "plt.show()"
   ]
  },
  {
   "cell_type": "code",
   "execution_count": null,
   "metadata": {
    "collapsed": true
   },
   "outputs": [],
   "source": []
  }
 ],
 "metadata": {
  "kernelspec": {
   "display_name": "Python 3",
   "language": "python",
   "name": "python3"
  },
  "language_info": {
   "codemirror_mode": {
    "name": "ipython",
    "version": 3
   },
   "file_extension": ".py",
   "mimetype": "text/x-python",
   "name": "python",
   "nbconvert_exporter": "python",
   "pygments_lexer": "ipython3",
   "version": "3.5.2"
  }
 },
 "nbformat": 4,
 "nbformat_minor": 2
}
