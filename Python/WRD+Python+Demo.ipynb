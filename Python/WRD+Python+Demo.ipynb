{
 "cells": [
  {
   "cell_type": "code",
   "execution_count": null,
   "metadata": {
    "collapsed": true
   },
   "outputs": [],
   "source": [
    "# import libraries for the demo\n",
    "import wrd_client\n",
    "import matplotlib\n",
    "import matplotlib.pyplot as plt\n",
    "import matplotlib.dates\n",
    "import pandas as pd\n",
    "import numpy as np"
   ]
  },
  {
   "cell_type": "code",
   "execution_count": null,
   "metadata": {
    "collapsed": true
   },
   "outputs": [],
   "source": [
    "# instantiate WRD client with provied url and login\n",
    "client = wrd_client.WRDClient(wrdUrl='', username=\"\", password=\"\")"
   ]
  },
  {
   "cell_type": "code",
   "execution_count": null,
   "metadata": {},
   "outputs": [],
   "source": [
    "# Get location list data\n",
    "locationData = client.get_locations()\n",
    "data = pd.DataFrame(locationData)\n",
    "data.style"
   ]
  },
  {
   "cell_type": "code",
   "execution_count": null,
   "metadata": {},
   "outputs": [],
   "source": [
    "# Get location detail data\n",
    "locationDetailData = client.get_locations_detail(\"AdC-0.1\")\n",
    "df = pd.DataFrame(locationDetailData)\n",
    "analytes_df = pd.io.json.json_normalize(locationDetailData[\"Analytes\"])\n",
    "result = pd.concat([df[\"Location\"], analytes_df], axis= 1)\n",
    "result.style"
   ]
  },
  {
   "cell_type": "code",
   "execution_count": null,
   "metadata": {},
   "outputs": [],
   "source": [
    "#Get guideline list data\n",
    "guidelineData = client.get_guidelines()\n",
    "data = pd.DataFrame(guidelineData)\n",
    "data.style"
   ]
  },
  {
   "cell_type": "code",
   "execution_count": null,
   "metadata": {},
   "outputs": [],
   "source": [
    "#Get guideline detail data\n",
    "guidelineDetailData = client.get_guidelines_detail()\n",
    "df = pd.DataFrame(guidelineDetailData)\n",
    "df_info = pd.io.json.json_normalize(df.to_dict('list'), ['AvailableAnalytes']).unstack().apply(pd.Series)\n",
    "sub_set = df[[\"Id\", \"GuidelineName\", \"GuidelineLongName\"]]\n",
    "sub_set = sub_set.merge(df_info, left_on='Id', right_on='Id', how='inner')\n",
    "sub_set.style"
   ]
  },
  {
   "cell_type": "code",
   "execution_count": null,
   "metadata": {
    "collapsed": true
   },
   "outputs": [],
   "source": [
    "# define functions for the demo\n",
    "def extractAnalyteDate(graph_data):\n",
    "    analyteDateTime = list(\n",
    "        map(lambda x: matplotlib.dates.datestr2num(x[\"DateTime\"]), graph_data[\"AnalytesData\"][0][\"Points\"]))\n",
    "    analyteDateValue = list(map(lambda x: x[\"Value\"], graph_data[\"AnalytesData\"][0][\"Points\"]))\n",
    "    return [analyteDateTime, analyteDateValue]\n",
    "\n",
    "def extractGuidelineData(graph_data):\n",
    "    analyteDateTime = list(\n",
    "        map(lambda x: matplotlib.dates.datestr2num(x[\"DateTime\"]), graph_data[\"GuidelineData\"][0][\"Points\"]))\n",
    "    analyteDateValue = list(map(lambda x: x[\"Value\"], graph_data[\"GuidelineData\"][0][\"Points\"]))\n",
    "    return [analyteDateTime, analyteDateValue]\n",
    "\n",
    "def highlight_exccedancce(x):\n",
    "    return ['background-color: yellow' if i == 1 and v > x.iloc[2] else '' for i, v in enumerate(x)]"
   ]
  },
  {
   "cell_type": "code",
   "execution_count": null,
   "metadata": {
    "collapsed": true
   },
   "outputs": [],
   "source": [
    "# request analyte and calculated guideline data\n",
    "graphData = client.get_graph_data(start_date=\"Jan 01, 2016\",\n",
    "                                      end_date=\"May 26, 2017\",\n",
    "                                      station_name=\"DR-195.8\",\n",
    "                                      analytes=[\"Aluminum (Al)-Total\"],\n",
    "                                      guidelines=[\"BC_WWS_ST\"])\n",
    "\n",
    "#print(graphData)\n",
    "analyte_data = extractAnalyteDate(graph_data=graphData)\n",
    "guideline_data = extractGuidelineData(graph_data=graphData)"
   ]
  },
  {
   "cell_type": "code",
   "execution_count": null,
   "metadata": {},
   "outputs": [],
   "source": [
    "# generate table with exccedance highlight for data\n",
    "analyte_df = pd.DataFrame(np.column_stack([analyte_data[0], analyte_data[1]]), columns=['DateTime', 'Analyte Value'])\n",
    "guidelin_df = pd.DataFrame(np.column_stack([guideline_data[0], guideline_data[1]]), columns=['DateTime', 'Guideline Value'])\n",
    "merged_df = analyte_df.merge(guidelin_df, left_on='DateTime', right_on='DateTime', how='outer').transpose()\n",
    "merged_df.style.apply(highlight_exccedancce)\n",
    "#print(merged_df)"
   ]
  },
  {
   "cell_type": "code",
   "execution_count": null,
   "metadata": {},
   "outputs": [],
   "source": [
    "# generate graph for data\n",
    "plt.plot_date(analyte_data[0], analyte_data[1], 'r--')\n",
    "plt.plot_date(guideline_data[0], guideline_data[1], 'bs-')\n",
    "\n",
    "plt.ylabel(\"Aluminum (Al)-Total\")\n",
    "plt.show()"
   ]
  },
  {
   "cell_type": "code",
   "execution_count": null,
   "metadata": {
    "collapsed": true
   },
   "outputs": [],
   "source": []
  }
 ],
 "metadata": {
  "kernelspec": {
   "display_name": "Python 3",
   "language": "python",
   "name": "python3"
  },
  "language_info": {
   "codemirror_mode": {
    "name": "ipython",
    "version": 3
   },
   "file_extension": ".py",
   "mimetype": "text/x-python",
   "name": "python",
   "nbconvert_exporter": "python",
   "pygments_lexer": "ipython3",
   "version": "3.5.2"
  }
 },
 "nbformat": 4,
 "nbformat_minor": 2
}
